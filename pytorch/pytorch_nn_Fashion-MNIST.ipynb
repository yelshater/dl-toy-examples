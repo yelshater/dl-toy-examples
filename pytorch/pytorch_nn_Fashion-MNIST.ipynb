{
 "cells": [
  {
   "cell_type": "code",
   "execution_count": 1,
   "metadata": {},
   "outputs": [],
   "source": [
    "import torch\n",
    "import torch.nn as nn\n",
    "import torch.nn.functional as F\n",
    "from torch.autograd import Variable\n",
    "\n",
    "import torchvision\n",
    "from torchvision.datasets import FashionMNIST\n",
    "import torchvision.transforms as transforms\n",
    "from torchviz import make_dot\n",
    "\n",
    "import numpy as np\n",
    "\n",
    "%matplotlib inline\n",
    "import matplotlib.pyplot as plt"
   ]
  },
  {
   "cell_type": "code",
   "execution_count": 140,
   "metadata": {},
   "outputs": [],
   "source": [
    "# Hyper-parameters initialization\n",
    "\n",
    "IMAGE_HEIGHT=28\n",
    "IMAGE_WIDTH=28\n",
    "IMAGE_SIZE = IMAGE_WIDTH*IMAGE_HEIGHT\n",
    "NUM_CLASSES = 10\n",
    "MAX_EPOCH = 5\n",
    "BATCH_SIZE = 120\n",
    "LEARNING_RATE = 0.01\n",
    "\n",
    "KERNEL_SIZE=5"
   ]
  },
  {
   "cell_type": "markdown",
   "metadata": {},
   "source": [
    "INPUT [BATCH_SIZE,CHANNELS,WIDTH,HEIGHT](e.g. [120,1,28,28] ): will hold the raw pixel values of the images in the batch, in this case an image of width 28, height 28, and with gray scale color.\n",
    "\n",
    "CONV layer will compute the output of neurons that are connected to local regions in the input, each computing a dot product between their weights and a small region they are connected to in the input volume. This may result in volume such as [16,28 - kernelsize - 1, 28 -kernelsize - 1] [BATCH_SIZE,16,24,24] if we decided to use 16 filters.\n",
    "\n",
    "RELU layer will apply an elementwise activation function, such as the max(0,x) thresholding at zero. This leaves the size of the volume unchanged ([BATCH_SIZE,16,24,24]).\n",
    "\n",
    "POOL layer will perform a downsampling operation along the spatial dimensions (width, height), resulting in volume such as [BATCH_SIZE,16,12,12].\n",
    "\n",
    "FC (i.e. fully-connected) layer will compute the class scores, resulting in volume of size [BATCH_SIZE,1,10], where each of the 10 numbers correspond to a class score, such as among the 10 categories of CIFAR-10. As with ordinary Neural Networks and as the name implies, each neuron in this layer will be connected to all the numbers in the previous volume."
   ]
  },
  {
   "cell_type": "markdown",
   "metadata": {},
   "source": [
    "$$W_{out} = \\left\\lfloor\\frac{W_{in} + 2 \\times \\text{padding}[1] - \\text{dilation}[1] \\times (\\text{kernel\\_size}[1] - 1) - 1}{\\text{stride}[1]} + 1\\right\\rfloor$$"
   ]
  },
  {
   "cell_type": "code",
   "execution_count": 149,
   "metadata": {},
   "outputs": [
    {
     "name": "stdout",
     "output_type": "stream",
     "text": [
      "torch.Size([120, 1, 28, 28])\n",
      "torch.Size([120, 16, 24, 24])\n",
      "torch.Size([120, 16, 24, 24])\n",
      "torch.Size([120, 16, 12, 12])\n"
     ]
    }
   ],
   "source": [
    "test_x = torch.empty(BATCH_SIZE,1,IMAGE_WIDTH, IMAGE_HEIGHT).uniform_(0, 1) \n",
    "print(test_x.shape)\n",
    "conv2d = nn.Conv2d(in_channels=1,out_channels=16,kernel_size=KERNEL_SIZE,bias=True)\n",
    "conv2d_result1 = conv2d(test_x)\n",
    "print(conv2d_result1.shape)\n",
    "relu1_result = F.relu(conv2d_result1)\n",
    "print(relu1_result.shape)\n",
    "\n",
    "print(F.max_pool2d(input=relu1_result,kernel_size=2).shape)\n",
    "\n",
    "\n"
   ]
  },
  {
   "cell_type": "markdown",
   "metadata": {},
   "source": [
    "$$ W_{in} = 28$$\n",
    "Assuming padding =1 and stride=1,then: $$kernel\\_size - 1 = (5-1)$$\n",
    "$$ W_{out} = W_{in} - kernel\\_size - 1 = 24$$\n",
    "$$ W_{out} = 28 -4 = 24$$"
   ]
  },
  {
   "cell_type": "code",
   "execution_count": 27,
   "metadata": {},
   "outputs": [
    {
     "name": "stdout",
     "output_type": "stream",
     "text": [
      "torch.Size([60, 6, 19, 19])\n",
      "torch.Size([60, 6, 9, 9])\n",
      "torch.Size([60, 486])\n",
      "torch.Size([60, 10])\n"
     ]
    }
   ],
   "source": [
    "max_pool1 = nn.MaxPool2d(kernel_size=(2,2))\n",
    "print(relu1_result.shape)\n",
    "max_pool1_result = max_pool1(relu1_result)\n",
    "\n",
    "print(max_pool1_result.shape)\n",
    "max_pool1_result = max_pool1_result.view(BATCH_SIZE,-1)\n",
    "print(max_pool1_result.shape)\n",
    "\n",
    "linear_fc1 = nn.Linear(in_features=max_pool1_result.shape[1],out_features=NUM_CLASSES)\n",
    "linear_fc1_result = linear_fc1(max_pool1_result)\n",
    "print(linear_fc1_result.shape)\n"
   ]
  },
  {
   "cell_type": "code",
   "execution_count": 131,
   "metadata": {},
   "outputs": [],
   "source": [
    "class NeuralNetwork(nn.Module):\n",
    "    def __init__(self):\n",
    "        super(NeuralNetwork, self).__init__()\n",
    "        self.layer1 = nn.Sequential(\n",
    "            nn.Conv2d(in_channels=1,out_channels=16,kernel_size=KERNEL_SIZE,bias=True),\n",
    "            nn.BatchNorm2d(16),\n",
    "            nn.ReLU(),\n",
    "            nn.MaxPool2d(2)\n",
    "        )\n",
    "        #it is recommended to put the FC layer here in the init function instead of in forward function\n",
    "        self.linear_fc = nn.Linear(in_features=12*12*16,out_features=NUM_CLASSES)\n",
    "                \n",
    "    def forward(self, x):\n",
    "        x = self.layer1(x)\n",
    "        x = x.view(x.size(0),-1)\n",
    "        x = self.linear_fc(x)\n",
    "        return x\n",
    "\n"
   ]
  },
  {
   "cell_type": "code",
   "execution_count": 112,
   "metadata": {},
   "outputs": [],
   "source": [
    "\n",
    "class CNN(nn.Module):\n",
    "    def __init__(self,num_classes=10):\n",
    "        super(CNN, self).__init__()\n",
    "        self.layer1 = nn.Sequential(\n",
    "            nn.Conv2d(1, 16, kernel_size=5, padding=2),\n",
    "            nn.BatchNorm2d(16),\n",
    "            nn.ReLU(),\n",
    "            nn.MaxPool2d(2))\n",
    "        self.layer2 = nn.Sequential(\n",
    "            nn.Conv2d(16, 32, kernel_size=5, padding=2),\n",
    "            nn.BatchNorm2d(32),\n",
    "            nn.ReLU(),\n",
    "            nn.MaxPool2d(2))\n",
    "        self.fc = nn.Linear(7*7*32, 10,bias=True)\n",
    "        \n",
    "    def forward(self, x):\n",
    "        out = self.layer1(x)\n",
    "        out = self.layer2(out)\n",
    "        out = out.view(out.size(0), -1)\n",
    "        out = self.fc(out)\n",
    "        return out"
   ]
  },
  {
   "cell_type": "code",
   "execution_count": 55,
   "metadata": {},
   "outputs": [],
   "source": [
    "#Download Fashion-MNIST dataset\n",
    "ROOT = \"data/\"\n",
    "\n",
    "#transforms.ToTensor() transforms the PIL.Image.Image format to pytorch Tensor \n",
    "\n",
    "train_Fashion_MINST = FashionMNIST(ROOT+\"Fashion-MNIST\", train=True, download=True,transform=transforms.ToTensor())\n",
    "test_Fashion_MINST = FashionMNIST(ROOT+\"Fashion-MNIST\", train=False, download=True,transform=transforms.ToTensor())\n",
    "\n",
    "\n",
    "train_data_loader = torch.utils.data.DataLoader(train_Fashion_MINST,batch_size=BATCH_SIZE,shuffle=True)\n",
    "test_data_loader = torch.utils.data.DataLoader(test_Fashion_MINST,batch_size=BATCH_SIZE,shuffle=True,drop_last=True)\n"
   ]
  },
  {
   "cell_type": "code",
   "execution_count": 56,
   "metadata": {},
   "outputs": [
    {
     "name": "stdout",
     "output_type": "stream",
     "text": [
      "torch.Size([120, 784])\n",
      "torch.Size([120])\n",
      "torch.Size([120, 784])\n",
      "784\n"
     ]
    }
   ],
   "source": [
    "#Before iterating all the training set, verfiy the dimensions of the training and target tensors of a random example\n",
    "(images, labels) = list(train_data_loader)[0]\n",
    "# images shape now is [BATCH_SIZE, 1, 28, 28], it should be reshaped ot [BATCH_SIZE,IMAGE_SIZE]\n",
    "images = images.reshape(BATCH_SIZE,-1) # it is the same of images = images.reshape(-1,IMAGE_SIZE)\n",
    "print(images.shape)\n",
    "print(labels.shape)\n",
    "assert images.shape[0] == BATCH_SIZE\n",
    "print(images.shape)\n",
    "print(IMAGE_SIZE)\n",
    "assert images.shape[1] == IMAGE_SIZE\n",
    "assert labels.shape[0] == BATCH_SIZE\n"
   ]
  },
  {
   "cell_type": "code",
   "execution_count": 141,
   "metadata": {},
   "outputs": [
    {
     "name": "stdout",
     "output_type": "stream",
     "text": [
      "[0,   300] loss: 1.676\n",
      "[1,   300] loss: 0.934\n",
      "[2,   300] loss: 0.816\n",
      "[3,   300] loss: 0.772\n",
      "[4,   300] loss: 0.743\n"
     ]
    }
   ],
   "source": [
    "nn_model = NeuralNetwork()\n",
    "#nn_model = CNN(NUM_CLASSES)\n",
    "\n",
    "criterion = nn.CrossEntropyLoss()\n",
    "#optimizer = torch.optim.Adam(nn_model.parameters(), lr=LEARNING_RATE)\n",
    "optimizer = torch.optim.RMSprop(nn_model.parameters(), lr=LEARNING_RATE)\n",
    "\n",
    "for epoch in range(0,MAX_EPOCH):\n",
    "    \n",
    "    running_loss = 0\n",
    "    #train_data_loader is already partitioned to multiple batches, each batch with size = LENGTH(TRAINING_SET)/BATCH_SIZE\n",
    "    for batch_index, (images, labels) in enumerate(train_data_loader):\n",
    "        images = Variable(images.reshape(-1,1, IMAGE_WIDTH,IMAGE_HEIGHT),requires_grad=True)\n",
    "        labels = Variable(labels)\n",
    "\n",
    "        #reset the gradients to zero\n",
    "        optimizer.zero_grad()\n",
    "        \n",
    "        #calculate predictions (y^)\n",
    "\n",
    "        predictions = nn_model(images)\n",
    "\n",
    "        #calculate Cross Entropy loss between labels(y) and predictions(y^)\n",
    "        loss = criterion(predictions, labels)\n",
    "\n",
    "        #Backward propagation\n",
    "        loss.backward()\n",
    "        optimizer.step()\n",
    "        \n",
    "        # print statistics\n",
    "        running_loss += loss.item()\n",
    "        if (batch_index + 1) % 300 == 0:    \n",
    "            print('[%d, %5d] loss: %.3f' %\n",
    "                  (epoch, batch_index + 1, running_loss / BATCH_SIZE))\n",
    "            running_loss = 0.0"
   ]
  },
  {
   "cell_type": "code",
   "execution_count": 142,
   "metadata": {},
   "outputs": [
    {
     "name": "stdout",
     "output_type": "stream",
     "text": [
      "Number of correct classified test images: 87 %\n"
     ]
    }
   ],
   "source": [
    "# Test the model accuracy\n",
    "correct_instances = 0\n",
    "total_test_examples = 0\n",
    "for images, labels in test_data_loader:\n",
    "    images = Variable(images.reshape(-1, 1, IMAGE_WIDTH,IMAGE_HEIGHT))\n",
    "    predictions_output = nn_model(images)\n",
    "    _, predicted_classes = torch.max(predictions_output.data, 1)\n",
    "    total_test_examples = total_test_examples + len(images)\n",
    "    correct_instances = correct_instances + (predicted_classes == labels).sum()\n",
    "\n",
    "print('Number of correct classified test images: %d %%' % (100 * correct_instances / total_test_examples))"
   ]
  },
  {
   "cell_type": "code",
   "execution_count": 143,
   "metadata": {},
   "outputs": [],
   "source": [
    "classes_names = {}\n",
    "classes_names[0] = 'T-shirt/top'\n",
    "classes_names[1] = 'Trouser'\n",
    "classes_names[2] = 'Pullover'\n",
    "classes_names[3] = 'Dress'\n",
    "classes_names[4] = 'Coat'\n",
    "classes_names[5] = 'Sandal'\n",
    "classes_names[6] = 'Shirt'\n",
    "classes_names[7] = 'Sneaker'\n",
    "classes_names[8] = 'Bag'\n",
    "classes_names[9] = 'Ankle boot'\n"
   ]
  },
  {
   "cell_type": "code",
   "execution_count": 144,
   "metadata": {},
   "outputs": [],
   "source": [
    "def visualize_model(lr_model,dataloaders, num_images=12):\n",
    "    was_training = lr_model.training\n",
    "    lr_model.eval()\n",
    "    images_so_far = 0\n",
    "    fig = plt.figure()\n",
    "    with torch.no_grad(): # to freeze the weights of the model ... we need only visualize the predictions.\n",
    "        for i, (inputs, labels) in enumerate(dataloaders):\n",
    "            inputs = inputs.reshape(-1,1,IMAGE_WIDTH,IMAGE_HEIGHT)\n",
    "            outputs = lr_model(inputs)\n",
    "            _, preds = torch.max(outputs, 1)\n",
    "\n",
    "            for j in range(inputs.size()[0]):\n",
    "                images_so_far += 1\n",
    "                ax = plt.subplot(num_images//4, 4, images_so_far)\n",
    "                ax.axis('off')\n",
    "                ax.set_title('{}'.format(classes_names[int(preds[j])]))\n",
    "                plt.subplots_adjust(hspace=0.6,wspace=0.6,)\n",
    "                plt.imshow(inputs.reshape(-1,28,28).data[j])\n",
    "\n",
    "                if images_so_far == num_images:\n",
    "                    lr_model.train(mode=was_training)\n",
    "                    return\n",
    "        lr_model.train(mode=was_training)"
   ]
  },
  {
   "cell_type": "code",
   "execution_count": 145,
   "metadata": {},
   "outputs": [
    {
     "data": {
      "image/png": "[encoded data removed]",
      "text/plain": [
       "<Figure size 432x288 with 12 Axes>"
      ]
     },
     "metadata": {
      "needs_background": "light"
     },
     "output_type": "display_data"
    }
   ],
   "source": [
    "visualize_model(nn_model,train_data_loader)"
   ]
  },
  {
   "cell_type": "code",
   "execution_count": 146,
   "metadata": {},
   "outputs": [
    {
     "data": {
      "image/svg+xml": [
       "<?xml version=\"1.0\" encoding=\"UTF-8\" standalone=\"no\"?>\n",
       "<!DOCTYPE svg PUBLIC \"-//W3C//DTD SVG 1.1//EN\"\n",
       " \"http://www.w3.org/Graphics/SVG/1.1/DTD/svg11.dtd\">\n",
       "<!-- Generated by graphviz version 2.40.1 (20161225.0304)\n",
       " -->\n",
       "<!-- Title: %3 Pages: 1 -->\n",
       "<svg width=\"444pt\" height=\"406pt\"\n",
       " viewBox=\"0.00 0.00 443.99 406.00\" xmlns=\"http://www.w3.org/2000/svg\" xmlns:xlink=\"http://www.w3.org/1999/xlink\">\n",
       "<g id=\"graph0\" class=\"graph\" transform=\"scale(1 1) rotate(0) translate(4 402)\">\n",
       "<title>%3</title>\n",
       "<polygon fill=\"#ffffff\" stroke=\"transparent\" points=\"-4,4 -4,-402 439.9922,-402 439.9922,4 -4,4\"/>\n",
       "<!-- 4904373104 -->\n",
       "<g id=\"node1\" class=\"node\">\n",
       "<title>4904373104</title>\n",
       "<polygon fill=\"#caff70\" stroke=\"#000000\" points=\"317.3051,-20 199.6871,-20 199.6871,0 317.3051,0 317.3051,-20\"/>\n",
       "<text text-anchor=\"middle\" x=\"258.4961\" y=\"-6.4\" font-family=\"Times,serif\" font-size=\"12.00\" fill=\"#000000\">ThAddmmBackward</text>\n",
       "</g>\n",
       "<!-- 4905119024 -->\n",
       "<g id=\"node2\" class=\"node\">\n",
       "<title>4905119024</title>\n",
       "<polygon fill=\"#d3d3d3\" stroke=\"#000000\" points=\"184.2973,-76 82.6949,-76 82.6949,-56 184.2973,-56 184.2973,-76\"/>\n",
       "<text text-anchor=\"middle\" x=\"133.4961\" y=\"-62.4\" font-family=\"Times,serif\" font-size=\"12.00\" fill=\"#000000\">ExpandBackward</text>\n",
       "</g>\n",
       "<!-- 4905119024&#45;&gt;4904373104 -->\n",
       "<g id=\"edge1\" class=\"edge\">\n",
       "<title>4905119024&#45;&gt;4904373104</title>\n",
       "<path fill=\"none\" stroke=\"#000000\" d=\"M155.8436,-55.9883C175.5407,-47.164 204.4648,-34.206 226.5945,-24.2919\"/>\n",
       "<polygon fill=\"#000000\" stroke=\"#000000\" points=\"228.2256,-27.3964 235.9206,-20.1138 225.3636,-21.0082 228.2256,-27.3964\"/>\n",
       "</g>\n",
       "<!-- 4929603344 -->\n",
       "<g id=\"node3\" class=\"node\">\n",
       "<title>4929603344</title>\n",
       "<polygon fill=\"#add8e6\" stroke=\"#000000\" points=\"149.4961,-146 95.4961,-146 95.4961,-112 149.4961,-112 149.4961,-146\"/>\n",
       "<text text-anchor=\"middle\" x=\"122.4961\" y=\"-118.4\" font-family=\"Times,serif\" font-size=\"12.00\" fill=\"#000000\"> (10)</text>\n",
       "</g>\n",
       "<!-- 4929603344&#45;&gt;4905119024 -->\n",
       "<g id=\"edge2\" class=\"edge\">\n",
       "<title>4929603344&#45;&gt;4905119024</title>\n",
       "<path fill=\"none\" stroke=\"#000000\" d=\"M125.5019,-111.785C126.8819,-103.8815 128.5276,-94.4559 129.9662,-86.2169\"/>\n",
       "<polygon fill=\"#000000\" stroke=\"#000000\" points=\"133.4259,-86.7504 131.6981,-76.2974 126.5302,-85.5464 133.4259,-86.7504\"/>\n",
       "</g>\n",
       "<!-- 4905119528 -->\n",
       "<g id=\"node4\" class=\"node\">\n",
       "<title>4905119528</title>\n",
       "<polygon fill=\"#d3d3d3\" stroke=\"#000000\" points=\"303.418,-76 213.5742,-76 213.5742,-56 303.418,-56 303.418,-76\"/>\n",
       "<text text-anchor=\"middle\" x=\"258.4961\" y=\"-62.4\" font-family=\"Times,serif\" font-size=\"12.00\" fill=\"#000000\">ViewBackward</text>\n",
       "</g>\n",
       "<!-- 4905119528&#45;&gt;4904373104 -->\n",
       "<g id=\"edge3\" class=\"edge\">\n",
       "<title>4905119528&#45;&gt;4904373104</title>\n",
       "<path fill=\"none\" stroke=\"#000000\" d=\"M258.4961,-55.9883C258.4961,-48.9098 258.4961,-39.1714 258.4961,-30.4779\"/>\n",
       "<polygon fill=\"#000000\" stroke=\"#000000\" points=\"261.9962,-30.3038 258.4961,-20.3039 254.9962,-30.3039 261.9962,-30.3038\"/>\n",
       "</g>\n",
       "<!-- 4905311704 -->\n",
       "<g id=\"node5\" class=\"node\">\n",
       "<title>4905311704</title>\n",
       "<polygon fill=\"#d3d3d3\" stroke=\"#000000\" points=\"349.4831,-139 167.5091,-139 167.5091,-119 349.4831,-119 349.4831,-139\"/>\n",
       "<text text-anchor=\"middle\" x=\"258.4961\" y=\"-125.4\" font-family=\"Times,serif\" font-size=\"12.00\" fill=\"#000000\">MaxPool2DWithIndicesBackward</text>\n",
       "</g>\n",
       "<!-- 4905311704&#45;&gt;4905119528 -->\n",
       "<g id=\"edge4\" class=\"edge\">\n",
       "<title>4905311704&#45;&gt;4905119528</title>\n",
       "<path fill=\"none\" stroke=\"#000000\" d=\"M258.4961,-118.878C258.4961,-110.2041 258.4961,-97.4355 258.4961,-86.6186\"/>\n",
       "<polygon fill=\"#000000\" stroke=\"#000000\" points=\"261.9962,-86.3062 258.4961,-76.3062 254.9962,-86.3062 261.9962,-86.3062\"/>\n",
       "</g>\n",
       "<!-- 4905311928 -->\n",
       "<g id=\"node6\" class=\"node\">\n",
       "<title>4905311928</title>\n",
       "<polygon fill=\"#d3d3d3\" stroke=\"#000000\" points=\"318.2973,-202 198.6949,-202 198.6949,-182 318.2973,-182 318.2973,-202\"/>\n",
       "<text text-anchor=\"middle\" x=\"258.4961\" y=\"-188.4\" font-family=\"Times,serif\" font-size=\"12.00\" fill=\"#000000\">ThresholdBackward0</text>\n",
       "</g>\n",
       "<!-- 4905311928&#45;&gt;4905311704 -->\n",
       "<g id=\"edge5\" class=\"edge\">\n",
       "<title>4905311928&#45;&gt;4905311704</title>\n",
       "<path fill=\"none\" stroke=\"#000000\" d=\"M258.4961,-181.878C258.4961,-173.2041 258.4961,-160.4355 258.4961,-149.6186\"/>\n",
       "<polygon fill=\"#000000\" stroke=\"#000000\" points=\"261.9962,-149.3062 258.4961,-139.3062 254.9962,-149.3062 261.9962,-149.3062\"/>\n",
       "</g>\n",
       "<!-- 4905308232 -->\n",
       "<g id=\"node7\" class=\"node\">\n",
       "<title>4905308232</title>\n",
       "<polygon fill=\"#d3d3d3\" stroke=\"#000000\" points=\"331.457,-258 185.5352,-258 185.5352,-238 331.457,-238 331.457,-258\"/>\n",
       "<text text-anchor=\"middle\" x=\"258.4961\" y=\"-244.4\" font-family=\"Times,serif\" font-size=\"12.00\" fill=\"#000000\">ThnnBatchNormBackward</text>\n",
       "</g>\n",
       "<!-- 4905308232&#45;&gt;4905311928 -->\n",
       "<g id=\"edge6\" class=\"edge\">\n",
       "<title>4905308232&#45;&gt;4905311928</title>\n",
       "<path fill=\"none\" stroke=\"#000000\" d=\"M258.4961,-237.9883C258.4961,-230.9098 258.4961,-221.1714 258.4961,-212.4779\"/>\n",
       "<polygon fill=\"#000000\" stroke=\"#000000\" points=\"261.9962,-212.3038 258.4961,-202.3039 254.9962,-212.3039 261.9962,-212.3038\"/>\n",
       "</g>\n",
       "<!-- 4905310192 -->\n",
       "<g id=\"node8\" class=\"node\">\n",
       "<title>4905310192</title>\n",
       "<polygon fill=\"#d3d3d3\" stroke=\"#000000\" points=\"213.6411,-321 83.3511,-321 83.3511,-301 213.6411,-301 213.6411,-321\"/>\n",
       "<text text-anchor=\"middle\" x=\"148.4961\" y=\"-307.4\" font-family=\"Times,serif\" font-size=\"12.00\" fill=\"#000000\">ThnnConv2DBackward</text>\n",
       "</g>\n",
       "<!-- 4905310192&#45;&gt;4905308232 -->\n",
       "<g id=\"edge7\" class=\"edge\">\n",
       "<title>4905310192&#45;&gt;4905308232</title>\n",
       "<path fill=\"none\" stroke=\"#000000\" d=\"M166.1695,-300.878C183.9704,-290.6829 211.6485,-274.8309 232.0608,-263.1402\"/>\n",
       "<polygon fill=\"#000000\" stroke=\"#000000\" points=\"233.9284,-266.104 240.8665,-258.0969 230.4495,-260.0297 233.9284,-266.104\"/>\n",
       "</g>\n",
       "<!-- 4905214360 -->\n",
       "<g id=\"node9\" class=\"node\">\n",
       "<title>4905214360</title>\n",
       "<polygon fill=\"#add8e6\" stroke=\"#000000\" points=\"92.9883,-398 .0039,-398 .0039,-364 92.9883,-364 92.9883,-398\"/>\n",
       "<text text-anchor=\"middle\" x=\"46.4961\" y=\"-370.4\" font-family=\"Times,serif\" font-size=\"12.00\" fill=\"#000000\"> (120, 1, 28, 28)</text>\n",
       "</g>\n",
       "<!-- 4905214360&#45;&gt;4905310192 -->\n",
       "<g id=\"edge8\" class=\"edge\">\n",
       "<title>4905214360&#45;&gt;4905310192</title>\n",
       "<path fill=\"none\" stroke=\"#000000\" d=\"M71.4481,-363.8761C87.9694,-352.5379 109.476,-337.7785 125.5673,-326.7355\"/>\n",
       "<polygon fill=\"#000000\" stroke=\"#000000\" points=\"127.619,-329.5724 133.8837,-321.0281 123.6581,-323.8008 127.619,-329.5724\"/>\n",
       "</g>\n",
       "<!-- 4905214416 -->\n",
       "<g id=\"node10\" class=\"node\">\n",
       "<title>4905214416</title>\n",
       "<polygon fill=\"#add8e6\" stroke=\"#000000\" points=\"185.9883,-398 111.0039,-398 111.0039,-364 185.9883,-364 185.9883,-398\"/>\n",
       "<text text-anchor=\"middle\" x=\"148.4961\" y=\"-370.4\" font-family=\"Times,serif\" font-size=\"12.00\" fill=\"#000000\"> (16, 1, 5, 5)</text>\n",
       "</g>\n",
       "<!-- 4905214416&#45;&gt;4905310192 -->\n",
       "<g id=\"edge9\" class=\"edge\">\n",
       "<title>4905214416&#45;&gt;4905310192</title>\n",
       "<path fill=\"none\" stroke=\"#000000\" d=\"M148.4961,-363.6966C148.4961,-353.9445 148.4961,-341.7049 148.4961,-331.4768\"/>\n",
       "<polygon fill=\"#000000\" stroke=\"#000000\" points=\"151.9962,-331.3805 148.4961,-321.3805 144.9962,-331.3806 151.9962,-331.3805\"/>\n",
       "</g>\n",
       "<!-- 4905214024 -->\n",
       "<g id=\"node11\" class=\"node\">\n",
       "<title>4905214024</title>\n",
       "<polygon fill=\"#add8e6\" stroke=\"#000000\" points=\"257.4961,-398 203.4961,-398 203.4961,-364 257.4961,-364 257.4961,-398\"/>\n",
       "<text text-anchor=\"middle\" x=\"230.4961\" y=\"-370.4\" font-family=\"Times,serif\" font-size=\"12.00\" fill=\"#000000\"> (16)</text>\n",
       "</g>\n",
       "<!-- 4905214024&#45;&gt;4905310192 -->\n",
       "<g id=\"edge10\" class=\"edge\">\n",
       "<title>4905214024&#45;&gt;4905310192</title>\n",
       "<path fill=\"none\" stroke=\"#000000\" d=\"M210.2264,-363.6966C197.4656,-352.8033 181.0691,-338.8062 168.3821,-327.9759\"/>\n",
       "<polygon fill=\"#000000\" stroke=\"#000000\" points=\"170.5343,-325.2112 160.6562,-321.3805 165.9894,-330.5352 170.5343,-325.2112\"/>\n",
       "</g>\n",
       "<!-- 4905312040 -->\n",
       "<g id=\"node12\" class=\"node\">\n",
       "<title>4905312040</title>\n",
       "<polygon fill=\"#add8e6\" stroke=\"#000000\" points=\"285.4961,-328 231.4961,-328 231.4961,-294 285.4961,-294 285.4961,-328\"/>\n",
       "<text text-anchor=\"middle\" x=\"258.4961\" y=\"-300.4\" font-family=\"Times,serif\" font-size=\"12.00\" fill=\"#000000\"> (16)</text>\n",
       "</g>\n",
       "<!-- 4905312040&#45;&gt;4905308232 -->\n",
       "<g id=\"edge11\" class=\"edge\">\n",
       "<title>4905312040&#45;&gt;4905308232</title>\n",
       "<path fill=\"none\" stroke=\"#000000\" d=\"M258.4961,-293.785C258.4961,-285.9703 258.4961,-276.6675 258.4961,-268.4951\"/>\n",
       "<polygon fill=\"#000000\" stroke=\"#000000\" points=\"261.9962,-268.2974 258.4961,-258.2974 254.9962,-268.2974 261.9962,-268.2974\"/>\n",
       "</g>\n",
       "<!-- 4905310640 -->\n",
       "<g id=\"node13\" class=\"node\">\n",
       "<title>4905310640</title>\n",
       "<polygon fill=\"#add8e6\" stroke=\"#000000\" points=\"357.4961,-328 303.4961,-328 303.4961,-294 357.4961,-294 357.4961,-328\"/>\n",
       "<text text-anchor=\"middle\" x=\"330.4961\" y=\"-300.4\" font-family=\"Times,serif\" font-size=\"12.00\" fill=\"#000000\"> (16)</text>\n",
       "</g>\n",
       "<!-- 4905310640&#45;&gt;4905308232 -->\n",
       "<g id=\"edge12\" class=\"edge\">\n",
       "<title>4905310640&#45;&gt;4905308232</title>\n",
       "<path fill=\"none\" stroke=\"#000000\" d=\"M310.8218,-293.785C300.5714,-284.8159 288.0807,-273.8865 277.874,-264.9557\"/>\n",
       "<polygon fill=\"#000000\" stroke=\"#000000\" points=\"280.0951,-262.2485 270.2646,-258.2974 275.4856,-267.5165 280.0951,-262.2485\"/>\n",
       "</g>\n",
       "<!-- 4905117400 -->\n",
       "<g id=\"node14\" class=\"node\">\n",
       "<title>4905117400</title>\n",
       "<polygon fill=\"#d3d3d3\" stroke=\"#000000\" points=\"415.4707,-76 343.5215,-76 343.5215,-56 415.4707,-56 415.4707,-76\"/>\n",
       "<text text-anchor=\"middle\" x=\"379.4961\" y=\"-62.4\" font-family=\"Times,serif\" font-size=\"12.00\" fill=\"#000000\">TBackward</text>\n",
       "</g>\n",
       "<!-- 4905117400&#45;&gt;4904373104 -->\n",
       "<g id=\"edge13\" class=\"edge\">\n",
       "<title>4905117400&#45;&gt;4904373104</title>\n",
       "<path fill=\"none\" stroke=\"#000000\" d=\"M357.8637,-55.9883C338.8824,-47.2036 311.0493,-34.3222 289.6654,-24.4255\"/>\n",
       "<polygon fill=\"#000000\" stroke=\"#000000\" points=\"290.8944,-21.1376 280.3492,-20.1138 287.9543,-27.4903 290.8944,-21.1376\"/>\n",
       "</g>\n",
       "<!-- 4905308456 -->\n",
       "<g id=\"node15\" class=\"node\">\n",
       "<title>4905308456</title>\n",
       "<polygon fill=\"#add8e6\" stroke=\"#000000\" points=\"435.9883,-146 367.0039,-146 367.0039,-112 435.9883,-112 435.9883,-146\"/>\n",
       "<text text-anchor=\"middle\" x=\"401.4961\" y=\"-118.4\" font-family=\"Times,serif\" font-size=\"12.00\" fill=\"#000000\"> (10, 2304)</text>\n",
       "</g>\n",
       "<!-- 4905308456&#45;&gt;4905117400 -->\n",
       "<g id=\"edge14\" class=\"edge\">\n",
       "<title>4905308456&#45;&gt;4905117400</title>\n",
       "<path fill=\"none\" stroke=\"#000000\" d=\"M395.4845,-111.785C392.6936,-103.7927 389.3591,-94.2439 386.4592,-85.9397\"/>\n",
       "<polygon fill=\"#000000\" stroke=\"#000000\" points=\"389.6932,-84.5844 383.092,-76.2974 383.0846,-86.8923 389.6932,-84.5844\"/>\n",
       "</g>\n",
       "</g>\n",
       "</svg>\n"
      ],
      "text/plain": [
       "<graphviz.dot.Digraph at 0x124e2b0b8>"
      ]
     },
     "execution_count": 146,
     "metadata": {},
     "output_type": "execute_result"
    }
   ],
   "source": [
    "make_dot(predictions)"
   ]
  },
  {
   "cell_type": "code",
   "execution_count": null,
   "metadata": {},
   "outputs": [],
   "source": []
  }
 ],
 "metadata": {
  "kernelspec": {
   "display_name": "Python 3",
   "language": "python",
   "name": "python3"
  },
  "language_info": {
   "codemirror_mode": {
    "name": "ipython",
    "version": 3
   },
   "file_extension": ".py",
   "mimetype": "text/x-python",
   "name": "python",
   "nbconvert_exporter": "python",
   "pygments_lexer": "ipython3",
   "version": "3.6.6"
  }
 },
 "nbformat": 4,
 "nbformat_minor": 2
}
