{
 "cells": [
  {
   "cell_type": "code",
   "execution_count": 16,
   "metadata": {},
   "outputs": [],
   "source": [
    "import pandas as pd\n",
    "import torch\n",
    "import torch.nn as nn\n",
    "from torch.autograd import Variable\n",
    "\n",
    "\n",
    "\n",
    "import torchvision\n",
    "import torchvision.transforms as transforms\n",
    "\n",
    "import numpy as np\n",
    "\n",
    "%matplotlib inline\n",
    "import matplotlib.pyplot as plt\n",
    "import csv"
   ]
  },
  {
   "cell_type": "code",
   "execution_count": 84,
   "metadata": {},
   "outputs": [],
   "source": [
    "#https://github.com/maciejkula/spotlight/blob/master/spotlight/losses.py\n",
    "def hinge_loss(positive_predictions, negative_predictions, mask=None):\n",
    "    \"\"\"\n",
    "    Hinge pairwise loss function.\n",
    "    Parameters\n",
    "    ----------\n",
    "    positive_predictions: tensor\n",
    "        Tensor containing predictions for known positive items.\n",
    "    negative_predictions: tensor\n",
    "        Tensor containing predictions for sampled negative items.\n",
    "    mask: tensor, optional\n",
    "        A binary tensor used to zero the loss from some entries\n",
    "        of the loss tensor.\n",
    "    Returns\n",
    "    -------\n",
    "    loss, float\n",
    "        The mean value of the loss function.\n",
    "    \"\"\"\n",
    "\n",
    "    loss = torch.clamp(negative_predictions -\n",
    "                       positive_predictions +\n",
    "                       1.0, 0.0)\n",
    "\n",
    "    if mask is not None:\n",
    "        mask = mask.float()\n",
    "        loss = loss * mask\n",
    "        return loss.sum() / mask.sum()\n",
    "\n",
    "    return loss.mean()\n",
    "\n",
    "def adaptive_hinge_loss(positive_predictions, negative_predictions, mask=None):\n",
    "    \"\"\"\n",
    "    Adaptive hinge pairwise loss function. Takes a set of predictions\n",
    "    for implicitly negative items, and selects those that are highest,\n",
    "    thus sampling those negatives that are closes to violating the\n",
    "    ranking implicit in the pattern of user interactions.\n",
    "    Approximates the idea of weighted approximate-rank pairwise loss\n",
    "    introduced in [2]_\n",
    "    Parameters\n",
    "    ----------\n",
    "    positive_predictions: tensor\n",
    "        Tensor containing predictions for known positive items.\n",
    "    negative_predictions: tensor\n",
    "        Iterable of tensors containing predictions for sampled negative items.\n",
    "        More tensors increase the likelihood of finding ranking-violating\n",
    "        pairs, but risk overfitting.\n",
    "    mask: tensor, optional\n",
    "        A binary tensor used to zero the loss from some entries\n",
    "        of the loss tensor.\n",
    "    Returns\n",
    "    -------\n",
    "    loss, float\n",
    "        The mean value of the loss function.\n",
    "    References\n",
    "    ----------\n",
    "    .. [2] Weston, Jason, Samy Bengio, and Nicolas Usunier. \"Wsabie:\n",
    "       Scaling up to large vocabulary image annotation.\" IJCAI.\n",
    "       Vol. 11. 2011.\n",
    "    \"\"\"\n",
    "\n",
    "    highest_negative_predictions, _ = torch.max(negative_predictions, 0)\n",
    "\n",
    "    return hinge_loss(positive_predictions, highest_negative_predictions.squeeze(), mask=mask)\n"
   ]
  },
  {
   "cell_type": "code",
   "execution_count": 25,
   "metadata": {},
   "outputs": [
    {
     "name": "stderr",
     "output_type": "stream",
     "text": [
      "b'Skipping line 6452: expected 8 fields, saw 9\\nSkipping line 43667: expected 8 fields, saw 10\\nSkipping line 51751: expected 8 fields, saw 9\\n'\n",
      "b'Skipping line 92038: expected 8 fields, saw 9\\nSkipping line 104319: expected 8 fields, saw 9\\nSkipping line 121768: expected 8 fields, saw 9\\n'\n",
      "b'Skipping line 144058: expected 8 fields, saw 9\\nSkipping line 150789: expected 8 fields, saw 9\\nSkipping line 157128: expected 8 fields, saw 9\\nSkipping line 180189: expected 8 fields, saw 9\\nSkipping line 185738: expected 8 fields, saw 9\\n'\n",
      "b'Skipping line 209388: expected 8 fields, saw 9\\nSkipping line 220626: expected 8 fields, saw 9\\nSkipping line 227933: expected 8 fields, saw 11\\nSkipping line 228957: expected 8 fields, saw 10\\nSkipping line 245933: expected 8 fields, saw 9\\nSkipping line 251296: expected 8 fields, saw 9\\nSkipping line 259941: expected 8 fields, saw 9\\nSkipping line 261529: expected 8 fields, saw 9\\n'\n",
      "/Users/yehiaelshater/anaconda/envs/mypython3/lib/python3.7/site-packages/IPython/core/interactiveshell.py:3020: DtypeWarning: Columns (3) have mixed types. Specify dtype option on import or set low_memory=False.\n",
      "  interactivity=interactivity, compiler=compiler, result=result)\n"
     ]
    }
   ],
   "source": [
    "books_ratings_df = pd.read_csv('data/BX-CSV-Dump/BX-Book-Ratings.csv',delimiter=';', encoding = \"ISO-8859-1\")\n",
    "books_df = pd.read_csv('data/BX-CSV-Dump/BX-Books.csv',delimiter=';',encoding = \"ISO-8859-1\",quoting=csv.QUOTE_ALL,error_bad_lines=False )\n",
    "users_df = pd.read_csv('data/BX-CSV-Dump/BX-Users.csv',delimiter=';',encoding = \"ISO-8859-1\",quoting=csv.QUOTE_ALL,error_bad_lines=False )\n",
    "\n",
    "#include implicit recos only\n",
    "books_ratings_implicit_df = books_ratings_df[books_ratings_df['Book-Rating'] == 0]\n",
    "books_df = books_df[books_df['ISBN'].isin(books_ratings_implicit_df.ISBN.unique())]\n",
    "users_df = users_df[users_df['User-ID'].isin(books_ratings_implicit_df['User-ID'].unique())]"
   ]
  },
  {
   "cell_type": "code",
   "execution_count": 29,
   "metadata": {},
   "outputs": [
    {
     "data": {
      "text/html": [
       "<div>\n",
       "<style scoped>\n",
       "    .dataframe tbody tr th:only-of-type {\n",
       "        vertical-align: middle;\n",
       "    }\n",
       "\n",
       "    .dataframe tbody tr th {\n",
       "        vertical-align: top;\n",
       "    }\n",
       "\n",
       "    .dataframe thead th {\n",
       "        text-align: right;\n",
       "    }\n",
       "</style>\n",
       "<table border=\"1\" class=\"dataframe\">\n",
       "  <thead>\n",
       "    <tr style=\"text-align: right;\">\n",
       "      <th></th>\n",
       "      <th>User-ID</th>\n",
       "      <th>ISBN</th>\n",
       "      <th>Book-Rating</th>\n",
       "    </tr>\n",
       "  </thead>\n",
       "  <tbody>\n",
       "    <tr>\n",
       "      <th>0</th>\n",
       "      <td>276725</td>\n",
       "      <td>034545104X</td>\n",
       "      <td>0</td>\n",
       "    </tr>\n",
       "    <tr>\n",
       "      <th>2</th>\n",
       "      <td>276727</td>\n",
       "      <td>0446520802</td>\n",
       "      <td>0</td>\n",
       "    </tr>\n",
       "    <tr>\n",
       "      <th>5</th>\n",
       "      <td>276733</td>\n",
       "      <td>2080674722</td>\n",
       "      <td>0</td>\n",
       "    </tr>\n",
       "    <tr>\n",
       "      <th>10</th>\n",
       "      <td>276746</td>\n",
       "      <td>0425115801</td>\n",
       "      <td>0</td>\n",
       "    </tr>\n",
       "    <tr>\n",
       "      <th>11</th>\n",
       "      <td>276746</td>\n",
       "      <td>0449006522</td>\n",
       "      <td>0</td>\n",
       "    </tr>\n",
       "  </tbody>\n",
       "</table>\n",
       "</div>"
      ],
      "text/plain": [
       "    User-ID        ISBN  Book-Rating\n",
       "0    276725  034545104X            0\n",
       "2    276727  0446520802            0\n",
       "5    276733  2080674722            0\n",
       "10   276746  0425115801            0\n",
       "11   276746  0449006522            0"
      ]
     },
     "execution_count": 29,
     "metadata": {},
     "output_type": "execute_result"
    }
   ],
   "source": []
  },
  {
   "cell_type": "code",
   "execution_count": 81,
   "metadata": {},
   "outputs": [
    {
     "name": "stdout",
     "output_type": "stream",
     "text": [
      "tensor([ 3.2000,  3.2000,  4.9000,  4.9000, -3.1000, -3.1000])\n",
      "tensor([ 5.1000, -1.7000,  1.3000,  2.0000,  2.5000,  2.2000])\n"
     ]
    },
    {
     "data": {
      "text/plain": [
       "tensor(15.8000)"
      ]
     },
     "execution_count": 81,
     "metadata": {},
     "output_type": "execute_result"
    }
   ],
   "source": [
    "torch.manual_seed(1113)\n",
    "#pos_predictions = torch.rand(5)\n",
    "#neg_predictions = torch.rand(5)\n",
    "pos_predictions = torch.tensor([3.2,3.2,4.9,4.9,-3.1,-3.1],dtype=torch.float32)\n",
    "neg_predictions = torch.tensor([5.1,-1.7,1.3,2.0,2.5,2.2],dtype=torch.float32)\n",
    "print(pos_predictions)\n",
    "print(neg_predictions)\n",
    "hinge_loss(pos_predictions,neg_predictions)"
   ]
  },
  {
   "cell_type": "code",
   "execution_count": 83,
   "metadata": {},
   "outputs": [
    {
     "data": {
      "text/plain": [
       "tensor(15.8000)"
      ]
     },
     "execution_count": 83,
     "metadata": {},
     "output_type": "execute_result"
    }
   ],
   "source": [
    "torch.clamp(neg_predictions -pos_predictions +1.0, 0.0).sum()"
   ]
  },
  {
   "cell_type": "code",
   "execution_count": null,
   "metadata": {},
   "outputs": [],
   "source": []
  }
 ],
 "metadata": {
  "kernelspec": {
   "display_name": "Python 3",
   "language": "python",
   "name": "python3"
  },
  "language_info": {
   "codemirror_mode": {
    "name": "ipython",
    "version": 3
   },
   "file_extension": ".py",
   "mimetype": "text/x-python",
   "name": "python",
   "nbconvert_exporter": "python",
   "pygments_lexer": "ipython3",
   "version": "3.6.8"
  }
 },
 "nbformat": 4,
 "nbformat_minor": 2
}
