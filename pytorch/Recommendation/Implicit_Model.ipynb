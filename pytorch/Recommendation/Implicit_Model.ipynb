{
 "cells": [
  {
   "cell_type": "code",
   "execution_count": 2,
   "metadata": {},
   "outputs": [],
   "source": [
    "from spotlight.cross_validation import random_train_test_split\n",
    "from spotlight.datasets.movielens import get_movielens_dataset\n",
    "from spotlight.evaluation import mrr_score,precision_recall_score\n",
    "from spotlight.factorization.implicit import ImplicitFactorizationModel\n",
    "import pandas as pd\n",
    "import numpy as np\n",
    "import csv\n",
    "from spotlight.interactions import Interactions\n",
    "from spotlight.torch_utils import cpu, gpu, minibatch, set_seed, shuffle\n",
    "import torch\n",
    "import torch.nn as nn\n",
    "import math\n",
    "from torch.autograd import Variable, Function\n",
    "import torch.nn as nn\n",
    "\n",
    "import random\n"
   ]
  },
  {
   "cell_type": "code",
   "execution_count": 4,
   "metadata": {},
   "outputs": [
    {
     "name": "stderr",
     "output_type": "stream",
     "text": [
      "b'Skipping line 6452: expected 8 fields, saw 9\\nSkipping line 43667: expected 8 fields, saw 10\\nSkipping line 51751: expected 8 fields, saw 9\\n'\n",
      "b'Skipping line 92038: expected 8 fields, saw 9\\nSkipping line 104319: expected 8 fields, saw 9\\nSkipping line 121768: expected 8 fields, saw 9\\n'\n",
      "b'Skipping line 144058: expected 8 fields, saw 9\\nSkipping line 150789: expected 8 fields, saw 9\\nSkipping line 157128: expected 8 fields, saw 9\\nSkipping line 180189: expected 8 fields, saw 9\\nSkipping line 185738: expected 8 fields, saw 9\\n'\n",
      "b'Skipping line 209388: expected 8 fields, saw 9\\nSkipping line 220626: expected 8 fields, saw 9\\nSkipping line 227933: expected 8 fields, saw 11\\nSkipping line 228957: expected 8 fields, saw 10\\nSkipping line 245933: expected 8 fields, saw 9\\nSkipping line 251296: expected 8 fields, saw 9\\nSkipping line 259941: expected 8 fields, saw 9\\nSkipping line 261529: expected 8 fields, saw 9\\n'\n",
      "/Users/yehiaelshater/anaconda/envs/mypython3/lib/python3.6/site-packages/IPython/core/interactiveshell.py:3044: DtypeWarning: Columns (3) have mixed types. Specify dtype option on import or set low_memory=False.\n",
      "  interactivity=interactivity, compiler=compiler, result=result)\n"
     ]
    }
   ],
   "source": [
    "books_ratings_df = pd.read_csv('data/BX-CSV-Dump/BX-Book-Ratings.csv',delimiter=';', encoding = \"ISO-8859-1\")\n",
    "books_df = pd.read_csv('data/BX-CSV-Dump/BX-Books.csv',delimiter=';',encoding = \"ISO-8859-1\",quoting=csv.QUOTE_ALL,error_bad_lines=False )\n",
    "users_df = pd.read_csv('data/BX-CSV-Dump/BX-Users.csv',delimiter=';',encoding = \"ISO-8859-1\",quoting=csv.QUOTE_ALL,error_bad_lines=False )\n",
    "\n",
    "#include implicit recos only\n",
    "books_ratings_implicit_df = books_ratings_df[books_ratings_df['Book-Rating'] == 0]\n",
    "books_ratings_implicit_df = books_ratings_implicit_df.sort_values(by='User-ID')\n",
    "books_ratings_implicit_df = books_ratings_implicit_df.sample(80000,random_state=113) #just sample for now\n",
    "books_ratings_implicit_df = pd.merge(books_ratings_implicit_df,users_df[['User-ID']])\n",
    "books_ratings_implicit_df = pd.merge(books_ratings_implicit_df,books_df[['ISBN']])\n",
    "books_df = books_df[books_df['ISBN'].isin(books_ratings_implicit_df.ISBN.unique())]\n",
    "users_df = users_df[users_df['User-ID'].isin(books_ratings_implicit_df['User-ID'].unique())]\n",
    "\n",
    "\n",
    "#map the users and books to integer indicies\n",
    "users_df = users_df[users_df['User-ID'].isin(books_ratings_implicit_df['User-ID'].unique())].drop_duplicates()\n",
    "user_int_ids = np.array(range(0,len(users_df['User-ID'].unique())))\n",
    "users_df['user_int_id']=user_int_ids\n",
    "\n",
    "books_df = books_df[books_df['ISBN'].isin(books_ratings_implicit_df['ISBN'].unique())].drop_duplicates()\n",
    "book_int_ids = np.array(range(0,len(books_df)))\n",
    "books_df['book_int_id']=book_int_ids\n",
    "\n",
    "books_ratings_implicit_df = pd.merge(books_ratings_implicit_df,books_df[['ISBN','book_int_id']])\n",
    "books_ratings_implicit_df = pd.merge(books_ratings_implicit_df,users_df[['User-ID','user_int_id']])"
   ]
  },
  {
   "cell_type": "code",
   "execution_count": 155,
   "metadata": {},
   "outputs": [
    {
     "data": {
      "text/html": [
       "<div>\n",
       "<style scoped>\n",
       "    .dataframe tbody tr th:only-of-type {\n",
       "        vertical-align: middle;\n",
       "    }\n",
       "\n",
       "    .dataframe tbody tr th {\n",
       "        vertical-align: top;\n",
       "    }\n",
       "\n",
       "    .dataframe thead th {\n",
       "        text-align: right;\n",
       "    }\n",
       "</style>\n",
       "<table border=\"1\" class=\"dataframe\">\n",
       "  <thead>\n",
       "    <tr style=\"text-align: right;\">\n",
       "      <th></th>\n",
       "      <th>User-ID</th>\n",
       "      <th>ISBN</th>\n",
       "      <th>Book-Rating</th>\n",
       "      <th>book_int_id</th>\n",
       "      <th>user_int_id</th>\n",
       "    </tr>\n",
       "  </thead>\n",
       "  <tbody>\n",
       "    <tr>\n",
       "      <th>0</th>\n",
       "      <td>160819</td>\n",
       "      <td>0060509465</td>\n",
       "      <td>0</td>\n",
       "      <td>27029</td>\n",
       "      <td>9925</td>\n",
       "    </tr>\n",
       "    <tr>\n",
       "      <th>1</th>\n",
       "      <td>160819</td>\n",
       "      <td>0192823019</td>\n",
       "      <td>0</td>\n",
       "      <td>50366</td>\n",
       "      <td>9925</td>\n",
       "    </tr>\n",
       "    <tr>\n",
       "      <th>2</th>\n",
       "      <td>160819</td>\n",
       "      <td>055356451X</td>\n",
       "      <td>0</td>\n",
       "      <td>354</td>\n",
       "      <td>9925</td>\n",
       "    </tr>\n",
       "    <tr>\n",
       "      <th>3</th>\n",
       "      <td>160819</td>\n",
       "      <td>0425186059</td>\n",
       "      <td>0</td>\n",
       "      <td>19757</td>\n",
       "      <td>9925</td>\n",
       "    </tr>\n",
       "    <tr>\n",
       "      <th>4</th>\n",
       "      <td>160819</td>\n",
       "      <td>0679777504</td>\n",
       "      <td>0</td>\n",
       "      <td>17449</td>\n",
       "      <td>9925</td>\n",
       "    </tr>\n",
       "  </tbody>\n",
       "</table>\n",
       "</div>"
      ],
      "text/plain": [
       "   User-ID        ISBN  Book-Rating  book_int_id  user_int_id\n",
       "0   160819  0060509465            0        27029         9925\n",
       "1   160819  0192823019            0        50366         9925\n",
       "2   160819  055356451X            0          354         9925\n",
       "3   160819  0425186059            0        19757         9925\n",
       "4   160819  0679777504            0        17449         9925"
      ]
     },
     "execution_count": 155,
     "metadata": {},
     "output_type": "execute_result"
    }
   ],
   "source": [
    "books_ratings_implicit_df.head()"
   ]
  },
  {
   "cell_type": "code",
   "execution_count": 156,
   "metadata": {},
   "outputs": [
    {
     "data": {
      "text/plain": [
       "0.006549693083536575"
      ]
     },
     "execution_count": 156,
     "metadata": {},
     "output_type": "execute_result"
    }
   ],
   "source": [
    "interactions = Interactions(books_ratings_implicit_df['user_int_id'].values,books_ratings_implicit_df['book_int_id'].values)\n",
    "train, test = random_train_test_split(interactions,test_percentage=0.2)\n",
    "model = ImplicitFactorizationModel(n_iter=3,\n",
    "                                   loss='bpr')\n",
    "model.fit(train)\n",
    "mrr = mrr_score(model, test)\n",
    "mrr.mean()\n",
    "\n"
   ]
  },
  {
   "cell_type": "code",
   "execution_count": 158,
   "metadata": {},
   "outputs": [
    {
     "data": {
      "text/plain": [
       "array([0.61111111, 0.03225806, 1.        , ..., 0.17265274, 0.05555556,\n",
       "       0.5       ])"
      ]
     },
     "execution_count": 158,
     "metadata": {},
     "output_type": "execute_result"
    }
   ],
   "source": [
    "mrr = mrr_score(model, train)\n",
    "mrr"
   ]
  },
  {
   "cell_type": "code",
   "execution_count": 144,
   "metadata": {},
   "outputs": [],
   "source": [
    "p_r_score = precision_recall_score(model,train,k=5)\n"
   ]
  },
  {
   "cell_type": "code",
   "execution_count": null,
   "metadata": {},
   "outputs": [],
   "source": [
    "p_r_score[0].mean()"
   ]
  },
  {
   "cell_type": "code",
   "execution_count": 128,
   "metadata": {},
   "outputs": [
    {
     "name": "stdout",
     "output_type": "stream",
     "text": [
      "1557.6000000000001\n",
      "2026\n"
     ]
    },
    {
     "data": {
      "text/html": [
       "<div>\n",
       "<style scoped>\n",
       "    .dataframe tbody tr th:only-of-type {\n",
       "        vertical-align: middle;\n",
       "    }\n",
       "\n",
       "    .dataframe tbody tr th {\n",
       "        vertical-align: top;\n",
       "    }\n",
       "\n",
       "    .dataframe thead th {\n",
       "        text-align: right;\n",
       "    }\n",
       "</style>\n",
       "<table border=\"1\" class=\"dataframe\">\n",
       "  <thead>\n",
       "    <tr style=\"text-align: right;\">\n",
       "      <th></th>\n",
       "      <th>0</th>\n",
       "    </tr>\n",
       "  </thead>\n",
       "  <tbody>\n",
       "    <tr>\n",
       "      <th>count</th>\n",
       "      <td>2026.000000</td>\n",
       "    </tr>\n",
       "    <tr>\n",
       "      <th>mean</th>\n",
       "      <td>0.002376</td>\n",
       "    </tr>\n",
       "    <tr>\n",
       "      <th>std</th>\n",
       "      <td>0.030120</td>\n",
       "    </tr>\n",
       "    <tr>\n",
       "      <th>min</th>\n",
       "      <td>0.000127</td>\n",
       "    </tr>\n",
       "    <tr>\n",
       "      <th>25%</th>\n",
       "      <td>0.000155</td>\n",
       "    </tr>\n",
       "    <tr>\n",
       "      <th>50%</th>\n",
       "      <td>0.000188</td>\n",
       "    </tr>\n",
       "    <tr>\n",
       "      <th>75%</th>\n",
       "      <td>0.000274</td>\n",
       "    </tr>\n",
       "    <tr>\n",
       "      <th>max</th>\n",
       "      <td>1.000000</td>\n",
       "    </tr>\n",
       "  </tbody>\n",
       "</table>\n",
       "</div>"
      ],
      "text/plain": [
       "                 0\n",
       "count  2026.000000\n",
       "mean      0.002376\n",
       "std       0.030120\n",
       "min       0.000127\n",
       "25%       0.000155\n",
       "50%       0.000188\n",
       "75%       0.000274\n",
       "max       1.000000"
      ]
     },
     "execution_count": 128,
     "metadata": {},
     "output_type": "execute_result"
    }
   ],
   "source": [
    "print(len(books_ratings_implicit_df['user_int_id'].unique()) * 0.4)\n",
    "print(len(mrr))\n",
    "pd.DataFrame(mrr).describe()"
   ]
  },
  {
   "cell_type": "code",
   "execution_count": null,
   "metadata": {},
   "outputs": [],
   "source": [
    "Interactions(np.array([0,1]),np.array([0,0]))"
   ]
  },
  {
   "cell_type": "code",
   "execution_count": 59,
   "metadata": {},
   "outputs": [
    {
     "name": "stdout",
     "output_type": "stream",
     "text": [
      "52451\n",
      "52451\n",
      "201623\n"
     ]
    },
    {
     "data": {
      "text/plain": [
       "647294"
      ]
     },
     "execution_count": 59,
     "metadata": {},
     "output_type": "execute_result"
    }
   ],
   "source": [
    "print(len(books_ratings_implicit_df['User-ID'].unique()))\n",
    "print(len(users_df))\n",
    "print(len(books_ratings_implicit_df['ISBN'].unique()))\n",
    "len(books_ratings_implicit_df)"
   ]
  },
  {
   "cell_type": "code",
   "execution_count": 55,
   "metadata": {},
   "outputs": [],
   "source": [
    "\n",
    "class WARP(Function): \n",
    "    '''\n",
    "    autograd function of WARP loss\n",
    "    '''\n",
    "    @staticmethod\n",
    "    def forward(ctx, input, target,positive_indices,negative_indices, max_num_trials = None):\n",
    "    #def forward(ctx, input, target, max_num_trials = None):\n",
    "        batch_size = target.size()[0]\n",
    "        if max_num_trials is None:\n",
    "            max_num_trials = target.size()[1] - 1\n",
    "        \n",
    "        #positive_indices = Variable(torch.zeros(input.size(),dtype=torch.float))\n",
    "        #negative_indices = Variable(torch.zeros(input.size(),dtype=torch.float))\n",
    "\n",
    "        L = torch.zeros(input.size()[0])\n",
    "        \n",
    "        all_labels_idx = np.arange(target.size()[1])\n",
    "        \n",
    "        Y = float(target.size()[1])\n",
    "        J = torch.nonzero(target)\n",
    "    \n",
    "        for i in range(batch_size): \n",
    "            \n",
    "            msk = np.ones(target.size()[1], dtype = bool)\n",
    "            \n",
    "            # Find the positive label for this example\n",
    "            j = J[i, 1]\n",
    "            positive_indices[i, j] = 1\n",
    "            msk[j] = False\n",
    "            \n",
    "            # initialize the sample_score_margin\n",
    "            sample_score_margin = -1\n",
    "            num_trials = 0\n",
    "            \n",
    "            neg_labels_idx = all_labels_idx[msk]\n",
    "\n",
    "            while ((sample_score_margin < 0) and (num_trials < max_num_trials)):\n",
    "                 \n",
    "                #randomly sample a negative label\n",
    "                neg_idx = random.sample(list(neg_labels_idx), 1)[0]\n",
    "                msk[neg_idx] = False\n",
    "                neg_labels_idx = all_labels_idx[msk]\n",
    "                \n",
    "                num_trials += 1\n",
    "                # calculate the score margin \n",
    "                sample_score_margin = 1 + input[i, neg_idx] - input[i, j] \n",
    "            \n",
    "            if sample_score_margin < 0:\n",
    "                # checks if no violating examples have been found \n",
    "                continue\n",
    "            else: \n",
    "                loss_weight = np.log(math.floor((Y-1)/(num_trials)))\n",
    "                L[i] = loss_weight\n",
    "                negative_indices[i, neg_idx] = 1\n",
    "        \n",
    "        #print(positive_indices*input)\n",
    "        #print(torch.sum(positive_indices*input, dim = 1))\n",
    "        #print(negative_indices*input)\n",
    "\n",
    "                \n",
    "        loss = L * (1-torch.sum(positive_indices*input, dim = 1) + torch.sum(negative_indices*input, dim = 1))\n",
    "        \n",
    "        ctx.save_for_backward(input, target)\n",
    "        ctx.L = L\n",
    "        ctx.positive_indices = positive_indices\n",
    "        ctx.negative_indices = negative_indices\n",
    "        \n",
    "        #print(positive_indices)\n",
    "        #print(negative_indices)\n",
    "        print(torch.sum(loss , dim = 0, keepdim = True))\n",
    "        return torch.sum(loss , dim = 0, keepdim = True)\n",
    "\n",
    "    # This function has only a single output, so it gets only one gradient \n",
    "    @staticmethod\n",
    "    def backward(ctx, grad_output):\n",
    "        input, target = ctx.saved_variables\n",
    "        L = Variable(torch.unsqueeze(ctx.L, 1), requires_grad = False)\n",
    "        #positive_indices = Variable(ctx.positive_indices, requires_grad = False) \n",
    "        #negative_indices = Variable(ctx.negative_indices, requires_grad = False)\n",
    "        positive_indices = ctx.positive_indices\n",
    "        negative_indices = ctx.negative_indices\n",
    "        \n",
    "        grad_input = grad_output*L*(negative_indices - positive_indices)\n",
    "\n",
    "        return grad_input, None, None,None,None    \n",
    "\n",
    "      \n",
    "class WARPLoss(nn.Module): \n",
    "    def __init__(self,input_size, max_num_trials = None): \n",
    "        super(WARPLoss, self).__init__()\n",
    "        self.max_num_trials = max_num_trials\n",
    "        self.positive_indices = torch.nn.Parameter(torch.zeros(input_size),requires_grad=True)\n",
    "        self.negative_indices = torch.nn.Parameter(torch.zeros(input_size),requires_grad=True)\n",
    "\n",
    "        \n",
    "    def forward(self, input, target): \n",
    "        return WARP.apply(input, target,self.positive_indices,self.negative_indices, self.max_num_trials)\n",
    "        #return WARP.apply(input, target, self.max_num_trials)\n",
    "    "
   ]
  },
  {
   "cell_type": "code",
   "execution_count": 63,
   "metadata": {},
   "outputs": [
    {
     "name": "stdout",
     "output_type": "stream",
     "text": [
      "tensor([ 2.2042])\n",
      "tensor([ 3.2578])\n",
      "tensor([ 3.2578])\n",
      "tensor([ 3.2578])\n",
      "tensor([ 4.1312])\n",
      "tensor([ 4.1312])\n",
      "tensor([ 5.5175])\n",
      "tensor([ 5.5175])\n",
      "tensor([ 5.5175])\n",
      "tensor([ 5.5175])\n",
      "tensor([ 5.5175])\n",
      "tensor([ 5.5175])\n",
      "tensor([ 5.5175])\n",
      "tensor([ 5.5175])\n",
      "tensor([ 5.5175])\n",
      "tensor([ 5.5175])\n",
      "tensor([ 5.5175])\n",
      "tensor([ 5.5175])\n",
      "tensor([ 5.5175])\n",
      "tensor([ 5.5175])\n",
      "tensor([ 5.5175])\n",
      "tensor([ 5.5175])\n",
      "tensor([ 5.5175])\n",
      "tensor([ 5.5175])\n",
      "tensor([ 5.5175])\n",
      "tensor([ 5.5175])\n",
      "tensor([ 5.5175])\n",
      "tensor([ 5.5175])\n",
      "tensor([ 5.5175])\n",
      "tensor([ 5.5175])\n",
      "tensor([ 5.5175])\n",
      "tensor([ 5.5175])\n",
      "tensor([ 5.5175])\n",
      "tensor([ 5.5175])\n",
      "tensor([ 5.5175])\n",
      "tensor([ 5.5175])\n",
      "tensor([ 5.5175])\n",
      "tensor([ 5.5175])\n",
      "tensor([ 5.5175])\n",
      "tensor([ 5.5175])\n",
      "tensor([ 5.5175])\n",
      "tensor([ 5.5175])\n",
      "tensor([ 5.5175])\n",
      "tensor([ 5.5175])\n",
      "tensor([ 5.5175])\n",
      "tensor([ 5.5175])\n",
      "tensor([ 5.5175])\n",
      "tensor([ 5.5175])\n",
      "tensor([ 5.5175])\n",
      "tensor([ 5.5175])\n",
      "tensor([ 5.5175])\n",
      "tensor([ 5.5175])\n",
      "tensor([ 5.5175])\n",
      "tensor([ 5.5175])\n",
      "tensor([ 5.5175])\n",
      "tensor([ 5.5175])\n",
      "tensor([ 5.5175])\n",
      "tensor([ 5.5175])\n",
      "tensor([ 5.5175])\n",
      "tensor([ 5.5175])\n",
      "tensor([ 5.5175])\n",
      "tensor([ 5.5175])\n",
      "tensor([ 5.5175])\n",
      "tensor([ 5.5175])\n",
      "tensor([ 5.5175])\n",
      "tensor([ 5.5175])\n",
      "tensor([ 5.5175])\n",
      "tensor([ 5.5175])\n",
      "tensor([ 5.5175])\n",
      "tensor([ 5.5175])\n",
      "tensor([ 5.5175])\n",
      "tensor([ 5.5175])\n",
      "tensor([ 5.5175])\n",
      "tensor([ 5.5175])\n",
      "tensor([ 5.5175])\n",
      "tensor([ 5.5175])\n",
      "tensor([ 5.5175])\n",
      "tensor([ 5.5175])\n",
      "tensor([ 5.5175])\n",
      "tensor([ 5.5175])\n",
      "tensor([ 5.5175])\n",
      "tensor([ 5.5175])\n",
      "tensor([ 5.5175])\n",
      "tensor([ 5.5175])\n",
      "tensor([ 5.5175])\n",
      "tensor([ 5.5175])\n",
      "tensor([ 5.5175])\n",
      "tensor([ 5.5175])\n",
      "tensor([ 5.5175])\n",
      "tensor([ 5.5175])\n",
      "tensor([ 5.5175])\n",
      "tensor([ 5.5175])\n",
      "tensor([ 5.5175])\n",
      "tensor([ 5.5175])\n",
      "tensor([ 5.5175])\n",
      "tensor([ 5.5175])\n",
      "tensor([ 5.5175])\n",
      "tensor([ 5.5175])\n",
      "tensor([ 5.5175])\n",
      "tensor([ 5.5175])\n"
     ]
    },
    {
     "name": "stderr",
     "output_type": "stream",
     "text": [
      "/Users/yehiaelshater/anaconda/envs/mypython3/lib/python3.6/site-packages/ipykernel_launcher.py:77: DeprecationWarning: 'saved_variables' is deprecated; use 'saved_tensors'\n"
     ]
    },
    {
     "ename": "TypeError",
     "evalue": "forward() missing 1 required positional argument: 'target'",
     "output_type": "error",
     "traceback": [
      "\u001b[0;31m---------------------------------------------------------------------------\u001b[0m",
      "\u001b[0;31mTypeError\u001b[0m                                 Traceback (most recent call last)",
      "\u001b[0;32m<ipython-input-63-8b43702a5ab2>\u001b[0m in \u001b[0;36m<module>\u001b[0;34m\u001b[0m\n\u001b[1;32m     13\u001b[0m \u001b[0;34m\u001b[0m\u001b[0m\n\u001b[1;32m     14\u001b[0m \u001b[0minput_vector\u001b[0m \u001b[0;34m=\u001b[0m \u001b[0mVariable\u001b[0m\u001b[0;34m(\u001b[0m\u001b[0mtorch\u001b[0m\u001b[0;34m.\u001b[0m\u001b[0mtensor\u001b[0m\u001b[0;34m(\u001b[0m\u001b[0;34m[\u001b[0m\u001b[0;34m[\u001b[0m\u001b[0;36m0\u001b[0m\u001b[0;34m,\u001b[0m\u001b[0;36m0.63\u001b[0m\u001b[0;34m,\u001b[0m\u001b[0;36m0.59\u001b[0m\u001b[0;34m,\u001b[0m\u001b[0;36m0.76\u001b[0m\u001b[0;34m,\u001b[0m\u001b[0;36m1\u001b[0m\u001b[0;34m]\u001b[0m\u001b[0;34m]\u001b[0m\u001b[0;34m,\u001b[0m\u001b[0mdtype\u001b[0m\u001b[0;34m=\u001b[0m\u001b[0mtorch\u001b[0m\u001b[0;34m.\u001b[0m\u001b[0mfloat\u001b[0m\u001b[0;34m)\u001b[0m\u001b[0;34m,\u001b[0m\u001b[0mrequires_grad\u001b[0m\u001b[0;34m=\u001b[0m\u001b[0;32mTrue\u001b[0m\u001b[0;34m)\u001b[0m\u001b[0;34m\u001b[0m\u001b[0;34m\u001b[0m\u001b[0m\n\u001b[0;32m---> 15\u001b[0;31m \u001b[0mpredictions_output\u001b[0m \u001b[0;34m=\u001b[0m \u001b[0mwarp_module\u001b[0m\u001b[0;34m(\u001b[0m\u001b[0minput_vector\u001b[0m\u001b[0;34m)\u001b[0m\u001b[0;34m\u001b[0m\u001b[0;34m\u001b[0m\u001b[0m\n\u001b[0m\u001b[1;32m     16\u001b[0m \u001b[0mprint\u001b[0m\u001b[0;34m(\u001b[0m\u001b[0mpredictions_output\u001b[0m\u001b[0;34m)\u001b[0m\u001b[0;34m\u001b[0m\u001b[0;34m\u001b[0m\u001b[0m\n\u001b[1;32m     17\u001b[0m \u001b[0;34m\u001b[0m\u001b[0m\n",
      "\u001b[0;32m~/anaconda/envs/mypython3/lib/python3.6/site-packages/torch/nn/modules/module.py\u001b[0m in \u001b[0;36m__call__\u001b[0;34m(self, *input, **kwargs)\u001b[0m\n\u001b[1;32m    489\u001b[0m             \u001b[0mresult\u001b[0m \u001b[0;34m=\u001b[0m \u001b[0mself\u001b[0m\u001b[0;34m.\u001b[0m\u001b[0m_slow_forward\u001b[0m\u001b[0;34m(\u001b[0m\u001b[0;34m*\u001b[0m\u001b[0minput\u001b[0m\u001b[0;34m,\u001b[0m \u001b[0;34m**\u001b[0m\u001b[0mkwargs\u001b[0m\u001b[0;34m)\u001b[0m\u001b[0;34m\u001b[0m\u001b[0;34m\u001b[0m\u001b[0m\n\u001b[1;32m    490\u001b[0m         \u001b[0;32melse\u001b[0m\u001b[0;34m:\u001b[0m\u001b[0;34m\u001b[0m\u001b[0;34m\u001b[0m\u001b[0m\n\u001b[0;32m--> 491\u001b[0;31m             \u001b[0mresult\u001b[0m \u001b[0;34m=\u001b[0m \u001b[0mself\u001b[0m\u001b[0;34m.\u001b[0m\u001b[0mforward\u001b[0m\u001b[0;34m(\u001b[0m\u001b[0;34m*\u001b[0m\u001b[0minput\u001b[0m\u001b[0;34m,\u001b[0m \u001b[0;34m**\u001b[0m\u001b[0mkwargs\u001b[0m\u001b[0;34m)\u001b[0m\u001b[0;34m\u001b[0m\u001b[0;34m\u001b[0m\u001b[0m\n\u001b[0m\u001b[1;32m    492\u001b[0m         \u001b[0;32mfor\u001b[0m \u001b[0mhook\u001b[0m \u001b[0;32min\u001b[0m \u001b[0mself\u001b[0m\u001b[0;34m.\u001b[0m\u001b[0m_forward_hooks\u001b[0m\u001b[0;34m.\u001b[0m\u001b[0mvalues\u001b[0m\u001b[0;34m(\u001b[0m\u001b[0;34m)\u001b[0m\u001b[0;34m:\u001b[0m\u001b[0;34m\u001b[0m\u001b[0;34m\u001b[0m\u001b[0m\n\u001b[1;32m    493\u001b[0m             \u001b[0mhook_result\u001b[0m \u001b[0;34m=\u001b[0m \u001b[0mhook\u001b[0m\u001b[0;34m(\u001b[0m\u001b[0mself\u001b[0m\u001b[0;34m,\u001b[0m \u001b[0minput\u001b[0m\u001b[0;34m,\u001b[0m \u001b[0mresult\u001b[0m\u001b[0;34m)\u001b[0m\u001b[0;34m\u001b[0m\u001b[0;34m\u001b[0m\u001b[0m\n",
      "\u001b[0;31mTypeError\u001b[0m: forward() missing 1 required positional argument: 'target'"
     ]
    }
   ],
   "source": [
    "#input_vector = Variable(torch.tensor([[0.35,0.63,0.59,0.76,0.17]],dtype=torch.float),requires_grad=True)\n",
    "input_vector = Variable(torch.tensor([[0,0.63,0.59,0.76,1]],dtype=torch.float),requires_grad=True)\n",
    "target_vector = Variable(torch.tensor([[1,0,1,0,1]],dtype=torch.float))\n",
    "warp_module = WARPLoss(input_vector.size(),3)\n",
    "\n",
    "optimizer = torch.optim.Adam(warp_module.parameters(), lr=0.000000000001)\n",
    "\n",
    "for t in range(100):\n",
    "    loss = warp_module(input_vector,target_vector)\n",
    "    optimizer.zero_grad()\n",
    "    loss.backward()\n",
    "    optimizer.step()\n",
    "\n",
    "input_vector = Variable(torch.tensor([[0,0.63,0.59,0.76,1]],dtype=torch.float),requires_grad=True)    \n",
    "predictions_output = warp_module(input_vector)\n",
    "print(predictions_output)\n",
    "\n"
   ]
  },
  {
   "cell_type": "code",
   "execution_count": 84,
   "metadata": {},
   "outputs": [
    {
     "ename": "TypeError",
     "evalue": "Population must be a sequence or set.  For dicts, use list(d).",
     "output_type": "error",
     "traceback": [
      "\u001b[0;31m---------------------------------------------------------------------------\u001b[0m",
      "\u001b[0;31mTypeError\u001b[0m                                 Traceback (most recent call last)",
      "\u001b[0;32m<ipython-input-84-dbb81e9b372c>\u001b[0m in \u001b[0;36m<module>\u001b[0;34m\u001b[0m\n\u001b[1;32m     33\u001b[0m \u001b[0;34m\u001b[0m\u001b[0m\n\u001b[1;32m     34\u001b[0m \u001b[0;34m\u001b[0m\u001b[0m\n\u001b[0;32m---> 35\u001b[0;31m \u001b[0mneg_idx\u001b[0m \u001b[0;34m=\u001b[0m \u001b[0mrandom\u001b[0m\u001b[0;34m.\u001b[0m\u001b[0msample\u001b[0m\u001b[0;34m(\u001b[0m\u001b[0mneg_labels_idx\u001b[0m\u001b[0;34m,\u001b[0m \u001b[0;36m1\u001b[0m\u001b[0;34m)\u001b[0m\u001b[0;34m[\u001b[0m\u001b[0;36m0\u001b[0m\u001b[0;34m]\u001b[0m\u001b[0;34m\u001b[0m\u001b[0;34m\u001b[0m\u001b[0m\n\u001b[0m\u001b[1;32m     36\u001b[0m \u001b[0mmsk\u001b[0m\u001b[0;34m[\u001b[0m\u001b[0mneg_idx\u001b[0m\u001b[0;34m]\u001b[0m \u001b[0;34m=\u001b[0m \u001b[0;32mFalse\u001b[0m\u001b[0;34m\u001b[0m\u001b[0;34m\u001b[0m\u001b[0m\n\u001b[1;32m     37\u001b[0m \u001b[0mneg_labels_idx\u001b[0m \u001b[0;34m=\u001b[0m \u001b[0mall_labels_idx\u001b[0m\u001b[0;34m[\u001b[0m\u001b[0mmsk\u001b[0m\u001b[0;34m]\u001b[0m\u001b[0;34m\u001b[0m\u001b[0;34m\u001b[0m\u001b[0m\n",
      "\u001b[0;32m~/anaconda/envs/mypython3/lib/python3.6/random.py\u001b[0m in \u001b[0;36msample\u001b[0;34m(self, population, k)\u001b[0m\n\u001b[1;32m    314\u001b[0m             \u001b[0mpopulation\u001b[0m \u001b[0;34m=\u001b[0m \u001b[0mtuple\u001b[0m\u001b[0;34m(\u001b[0m\u001b[0mpopulation\u001b[0m\u001b[0;34m)\u001b[0m\u001b[0;34m\u001b[0m\u001b[0;34m\u001b[0m\u001b[0m\n\u001b[1;32m    315\u001b[0m         \u001b[0;32mif\u001b[0m \u001b[0;32mnot\u001b[0m \u001b[0misinstance\u001b[0m\u001b[0;34m(\u001b[0m\u001b[0mpopulation\u001b[0m\u001b[0;34m,\u001b[0m \u001b[0m_Sequence\u001b[0m\u001b[0;34m)\u001b[0m\u001b[0;34m:\u001b[0m\u001b[0;34m\u001b[0m\u001b[0;34m\u001b[0m\u001b[0m\n\u001b[0;32m--> 316\u001b[0;31m             \u001b[0;32mraise\u001b[0m \u001b[0mTypeError\u001b[0m\u001b[0;34m(\u001b[0m\u001b[0;34m\"Population must be a sequence or set.  For dicts, use list(d).\"\u001b[0m\u001b[0;34m)\u001b[0m\u001b[0;34m\u001b[0m\u001b[0;34m\u001b[0m\u001b[0m\n\u001b[0m\u001b[1;32m    317\u001b[0m         \u001b[0mrandbelow\u001b[0m \u001b[0;34m=\u001b[0m \u001b[0mself\u001b[0m\u001b[0;34m.\u001b[0m\u001b[0m_randbelow\u001b[0m\u001b[0;34m\u001b[0m\u001b[0;34m\u001b[0m\u001b[0m\n\u001b[1;32m    318\u001b[0m         \u001b[0mn\u001b[0m \u001b[0;34m=\u001b[0m \u001b[0mlen\u001b[0m\u001b[0;34m(\u001b[0m\u001b[0mpopulation\u001b[0m\u001b[0;34m)\u001b[0m\u001b[0;34m\u001b[0m\u001b[0;34m\u001b[0m\u001b[0m\n",
      "\u001b[0;31mTypeError\u001b[0m: Population must be a sequence or set.  For dicts, use list(d)."
     ]
    }
   ],
   "source": [
    "\n",
    "\n",
    "\n",
    "batch_size = target_vector.size()[0]\n",
    "max_num_trials = 10\n",
    "if max_num_trials is None: \n",
    "    max_num_trials = target_vector.size()[1] - 1\n",
    "\n",
    "positive_indices = torch.zeros(input_vector.size())\n",
    "negative_indices = torch.zeros(input_vector.size())\n",
    "L = torch.zeros(input_vector.size()[0])\n",
    "\n",
    "all_labels_idx = np.arange(target_vector.size()[1])\n",
    "\n",
    "i=0\n",
    "Y = float(target_vector.size()[1])\n",
    "J = torch.nonzero(target_vector)\n",
    "\n",
    "msk = np.ones(target_vector.size()[1], dtype = bool)\n",
    "            \n",
    "# Find the positive label for this example\n",
    "j = J[i, 1]\n",
    "positive_indices[i, j] = 1\n",
    "msk[j] = False\n",
    "\n",
    "\n",
    "\n",
    "# initialize the sample_score_margin\n",
    "sample_score_margin = -1\n",
    "num_trials = 0\n",
    "\n",
    "neg_labels_idx = all_labels_idx[msk]\n",
    "\n",
    "\n",
    "neg_idx = random.sample(neg_labels_idx, 1)[0]\n",
    "msk[neg_idx] = False\n",
    "neg_labels_idx = all_labels_idx[msk]\n"
   ]
  },
  {
   "cell_type": "code",
   "execution_count": 55,
   "metadata": {},
   "outputs": [
    {
     "data": {
      "text/plain": [
       "array([0, 1, 3, 4])"
      ]
     },
     "execution_count": 55,
     "metadata": {},
     "output_type": "execute_result"
    }
   ],
   "source": [
    "J\n",
    "positive_indices\n",
    "neg_labels_idx"
   ]
  },
  {
   "cell_type": "code",
   "execution_count": 70,
   "metadata": {},
   "outputs": [
    {
     "data": {
      "text/plain": [
       "[4]"
      ]
     },
     "execution_count": 70,
     "metadata": {},
     "output_type": "execute_result"
    }
   ],
   "source": [
    "#random.sample(neg_labels_idx,0)\n",
    "positive_indices.shape\n",
    "random.sample(list(neg_labels_idx),1)"
   ]
  },
  {
   "cell_type": "code",
   "execution_count": null,
   "metadata": {},
   "outputs": [],
   "source": []
  }
 ],
 "metadata": {
  "kernelspec": {
   "display_name": "Python 3",
   "language": "python",
   "name": "python3"
  },
  "language_info": {
   "codemirror_mode": {
    "name": "ipython",
    "version": 3
   },
   "file_extension": ".py",
   "mimetype": "text/x-python",
   "name": "python",
   "nbconvert_exporter": "python",
   "pygments_lexer": "ipython3",
   "version": "3.6.8"
  }
 },
 "nbformat": 4,
 "nbformat_minor": 2
}
