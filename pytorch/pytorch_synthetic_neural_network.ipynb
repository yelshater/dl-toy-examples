{
 "cells": [
  {
   "cell_type": "code",
   "execution_count": 2,
   "metadata": {},
   "outputs": [],
   "source": [
    "import numpy as np\n",
    "import torch"
   ]
  },
  {
   "cell_type": "markdown",
   "metadata": {},
   "source": [
    "A simple hypothesis function is the dot/inner product of two vectors :\n",
    "\n",
    "$$\n",
    "h = \\begin{bmatrix}\n",
    "x_1 \\, x_2 \\cdots  x_n\n",
    "\\end{bmatrix}\n",
    "\\cdot \n",
    "\\begin{bmatrix}\n",
    "           w_1 \\\\\n",
    "           w_2 \\\\\n",
    "           \\vdots \\\\\n",
    "           w_n\n",
    "\\end{bmatrix} + b\n",
    "$$\n",
    "\n",
    "$$\n",
    "y = sigmoid(h)\n",
    "$$\n"
   ]
  },
  {
   "cell_type": "code",
   "execution_count": 3,
   "metadata": {},
   "outputs": [],
   "source": [
    "def sigmoid_activation(h):\n",
    "    return 1/(1 + torch.exp(-h))"
   ]
  },
  {
   "cell_type": "code",
   "execution_count": 46,
   "metadata": {},
   "outputs": [],
   "source": [
    "### Generate some synthetic data\n",
    "torch.manual_seed(13) \n",
    "\n",
    "n_features = 10\n",
    "m_examples = 1\n",
    "\n",
    "# create X vector sampled from a gaussian distribution\n",
    "X = torch.randn((m_examples,n_features))\n",
    "# create W vector sampled from a gaussian distribution with the same shape of X \n",
    "W = torch.rand_like(X)\n",
    "# create bias vector \n",
    "b = torch.randn(m_examples,m_examples)\n"
   ]
  },
  {
   "cell_type": "code",
   "execution_count": 47,
   "metadata": {},
   "outputs": [
    {
     "ename": "RuntimeError",
     "evalue": "size mismatch, m1: [1 x 10], m2: [1 x 10] at /Users/soumith/miniconda2/conda-bld/pytorch_1532624435833/work/aten/src/TH/generic/THTensorMath.cpp:2070",
     "output_type": "error",
     "traceback": [
      "\u001b[0;31m---------------------------------------------------------------------------\u001b[0m",
      "\u001b[0;31mRuntimeError\u001b[0m                              Traceback (most recent call last)",
      "\u001b[0;32m<ipython-input-47-fda68b5aa47c>\u001b[0m in \u001b[0;36m<module>\u001b[0;34m\u001b[0m\n\u001b[1;32m      5\u001b[0m \u001b[0;31m# 2. using torch.mm or torch.matmul which raise error in case if the dimensions are not consistent like the following example\u001b[0m\u001b[0;34m\u001b[0m\u001b[0;34m\u001b[0m\u001b[0m\n\u001b[1;32m      6\u001b[0m \u001b[0;34m\u001b[0m\u001b[0m\n\u001b[0;32m----> 7\u001b[0;31m \u001b[0my\u001b[0m \u001b[0;34m=\u001b[0m \u001b[0msigmoid_activation\u001b[0m\u001b[0;34m(\u001b[0m\u001b[0mtorch\u001b[0m\u001b[0;34m.\u001b[0m\u001b[0mmm\u001b[0m\u001b[0;34m(\u001b[0m\u001b[0mX\u001b[0m\u001b[0;34m,\u001b[0m\u001b[0mW\u001b[0m\u001b[0;34m)\u001b[0m \u001b[0;34m+\u001b[0m \u001b[0mb\u001b[0m\u001b[0;34m)\u001b[0m\u001b[0;34m\u001b[0m\u001b[0m\n\u001b[0m",
      "\u001b[0;31mRuntimeError\u001b[0m: size mismatch, m1: [1 x 10], m2: [1 x 10] at /Users/soumith/miniconda2/conda-bld/pytorch_1532624435833/work/aten/src/TH/generic/THTensorMath.cpp:2070"
     ]
    }
   ],
   "source": [
    "# There are two different methods in pytorch to do matrix multiplcations\n",
    "# 1. using * but it is too risky as if X and W dimensions are not consistent, * will do broadcasting to unify the dimensions.\n",
    "y = sigmoid_activation((X*W).sum() + b)\n",
    "\n",
    "# 2. using torch.mm or torch.matmul which raise error in case if the dimensions are not consistent like the following example\n",
    "\n",
    "y = sigmoid_activation(torch.mm(X,W) + b)"
   ]
  },
  {
   "cell_type": "code",
   "execution_count": null,
   "metadata": {},
   "outputs": [],
   "source": [
    "# We need to transpose W vector before doing dot product , there are three methods in pytorch to do so \n",
    "# 1. W.reshape(rows,columns) returns a new vector with the new shape and keeps clone of the original W in the memory. This is not efficient as it copies all the data in the memory. Sometimes, it returns a new view of W when possible.\n",
    "# 2. W.resize_(rows,columns) resizes W inplace. The problem with resize_ is that if the new shape results fewer than elements than the old shape, some of the elements will be truncated.\n",
    "# 3. W.view(rows,columns) returns new tensor of W with the new shape.\n",
    "\n",
    "y = sigmoid_activation(torch.mm(X,W.view(n_features,m_examples)) + b)"
   ]
  },
  {
   "cell_type": "markdown",
   "metadata": {},
   "source": [
    "$$\n",
    "h_{(m,hidden)} = sigmoid(X_{(m,n)} * W1_{(n,hidden)} + b1_{(m,hidden)}) \n",
    "$$\n",
    "\n",
    "$$\n",
    "output_{(m,output\\_dim)} = sigmoid(h_{(m,hidden)} * W2_{(hidden,output\\_dim)} + b2_{(m,output\\_dim)}) \n",
    "$$\n",
    "\n"
   ]
  },
  {
   "cell_type": "code",
   "execution_count": 49,
   "metadata": {},
   "outputs": [],
   "source": [
    "# Now, consider a simple NN with 3 inputs and 2 hidden layers. \n",
    "#The first weights matrix W1 dimensions should be (num_of_features,num_of_hidden_layers).\n",
    "#The second weights matrix W2 dimensions should be (num_of_hidden_layers,output_dimension)\n",
    "\n",
    "num_features = 3\n",
    "num_hidden_layers = 2\n",
    "m_examples = 10\n",
    "n_output_dimensions = 1\n",
    "\n",
    "X = torch.randn(m_examples,num_features)\n",
    "W1 = torch.randn(num_features,num_hidden_layers)\n",
    "W2 = torch.randn(num_hidden_layers,n_output_dimensions)\n",
    "b1 = torch.randn(m_examples,num_hidden_layers)\n",
    "b2 = torch.randn(m_examples,n_output_dimensions)\n"
   ]
  },
  {
   "cell_type": "code",
   "execution_count": 50,
   "metadata": {},
   "outputs": [],
   "source": [
    "h = sigmoid_activation(torch.mm(X,W1) + b1)\n",
    "output = sigmoid_activation(torch.mm(h,W2) + b2)\n",
    "assert output.shape[0] == m_examples\n",
    "assert output.shape[1] == n_output_dimensions"
   ]
  },
  {
   "cell_type": "code",
   "execution_count": null,
   "metadata": {},
   "outputs": [],
   "source": []
  }
 ],
 "metadata": {
  "kernelspec": {
   "display_name": "Python 3",
   "language": "python",
   "name": "python3"
  },
  "language_info": {
   "codemirror_mode": {
    "name": "ipython",
    "version": 3
   },
   "file_extension": ".py",
   "mimetype": "text/x-python",
   "name": "python",
   "nbconvert_exporter": "python",
   "pygments_lexer": "ipython3",
   "version": "3.7.0"
  }
 },
 "nbformat": 4,
 "nbformat_minor": 2
}
